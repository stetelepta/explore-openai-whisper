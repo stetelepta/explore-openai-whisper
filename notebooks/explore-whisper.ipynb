{
 "cells": [
  {
   "cell_type": "markdown",
   "id": "bf4fb8cf",
   "metadata": {},
   "source": [
    "### Install dependencies"
   ]
  },
  {
   "cell_type": "code",
   "execution_count": 11,
   "id": "2a3d1073",
   "metadata": {},
   "outputs": [
    {
     "name": "stdout",
     "output_type": "stream",
     "text": [
      "The watermark extension is already loaded. To reload it, use:\n",
      "  %reload_ext watermark\n",
      "openai: 1.10.0\n",
      "\n"
     ]
    }
   ],
   "source": [
    "!pip install openai --quiet\n",
    "\n",
    "%load_ext watermark\n",
    "%watermark -p openai"
   ]
  },
  {
   "cell_type": "markdown",
   "id": "29a5d2ef",
   "metadata": {},
   "source": [
    "### Imports"
   ]
  },
  {
   "cell_type": "code",
   "execution_count": 3,
   "id": "b94f5b3c",
   "metadata": {},
   "outputs": [],
   "source": [
    "import os\n",
    "\n",
    "from dotenv import load_dotenv, find_dotenv, dotenv_values\n",
    "from pathlib import Path"
   ]
  },
  {
   "cell_type": "markdown",
   "id": "3223fde3",
   "metadata": {},
   "source": [
    "### Settings"
   ]
  },
  {
   "cell_type": "code",
   "execution_count": 4,
   "id": "7f3cb271",
   "metadata": {},
   "outputs": [],
   "source": [
    "# path settings\n",
    "project_path = Path(os.getcwd()).parent\n",
    "data_path = project_path / \"data\"\n",
    "output_path = project_path / \"output\""
   ]
  },
  {
   "cell_type": "code",
   "execution_count": 5,
   "id": "9320774d",
   "metadata": {},
   "outputs": [
    {
     "data": {
      "text/plain": [
       "True"
      ]
     },
     "execution_count": 5,
     "metadata": {},
     "output_type": "execute_result"
    }
   ],
   "source": [
    "# load env settings\n",
    "load_dotenv(project_path / \".env\")"
   ]
  },
  {
   "cell_type": "markdown",
   "id": "661d5740",
   "metadata": {},
   "source": [
    "#### Speech to Text\n",
    "\n",
    "https://platform.openai.com/docs/guides/speech-to-text"
   ]
  },
  {
   "cell_type": "code",
   "execution_count": 6,
   "id": "9c41f9c0",
   "metadata": {},
   "outputs": [
    {
     "name": "stdout",
     "output_type": "stream",
     "text": [
      "My thought, I have nobody by a beauty and will as you t'ward. Mr. Rochester is sub, and that so don't find simpus, And devoted abode, to hath might in a\n"
     ]
    }
   ],
   "source": [
    "#Import the openai Library\n",
    "from openai import OpenAI\n",
    "\n",
    "# Create an api client\n",
    "client = OpenAI(api_key=os.getenv(\"OPENAI_API_KEY\"))\n",
    "\n",
    "# Load audio file\n",
    "audio_file= open(data_path / \"sample-0.mp3\", \"rb\")\n",
    "\n",
    "# Transcribe\n",
    "transcription = client.audio.transcriptions.create(\n",
    "  model=\"whisper-1\", \n",
    "  file=audio_file\n",
    ")\n",
    "# Print the transcribed text\n",
    "print(transcription.text)"
   ]
  },
  {
   "cell_type": "markdown",
   "id": "a50d153b",
   "metadata": {},
   "source": [
    "#### Text to Speech\n",
    "\n",
    "https://platform.openai.com/docs/guides/text-to-speech"
   ]
  },
  {
   "cell_type": "code",
   "execution_count": 9,
   "id": "c4960ca0",
   "metadata": {},
   "outputs": [
    {
     "name": "stdout",
     "output_type": "stream",
     "text": [
      "- generating speech, model: tts-1, voice: alloy\n"
     ]
    },
    {
     "name": "stderr",
     "output_type": "stream",
     "text": [
      "/var/folders/p_/3_cr4q2x3836bxsznnm41gpc0000gn/T/ipykernel_3147/4035956351.py:15: DeprecationWarning: Due to a bug, this method doesn't actually stream the response content, `.with_streaming_response.method()` should be used instead\n",
      "  response.stream_to_file(speech_file_path)\n"
     ]
    },
    {
     "name": "stdout",
     "output_type": "stream",
     "text": [
      "- generating speech, model: tts-1, voice: echo\n",
      "- generating speech, model: tts-1, voice: fable\n",
      "- generating speech, model: tts-1, voice: onyx\n",
      "- generating speech, model: tts-1, voice: nova\n",
      "- generating speech, model: tts-1, voice: shimmer\n"
     ]
    }
   ],
   "source": [
    "%%time\n",
    "\n",
    "\n",
    "supported_voices = ['alloy', 'echo', 'fable', 'onyx', 'nova', 'shimmer']\n",
    "supported_models = ['tts-1', 'tts-1-hd']\n",
    "\n",
    "for model in supported_models:\n",
    "    for voice in supported_voices:\n",
    "        print(f\"- generating speech, model: {model}, voice: {voice}\")\n",
    "        speech_file_path = output_path / f\"speech-{model}-{voice}.mp3\"\n",
    "        response = client.audio.speech.create(\n",
    "          model=model,\n",
    "          voice=voice,\n",
    "          input=\"Today is a wonderful day to build something people love!\"\n",
    "        )\n",
    "\n",
    "        response.stream_to_file(speech_file_path)"
   ]
  },
  {
   "cell_type": "markdown",
   "id": "00a0d290",
   "metadata": {},
   "source": [
    "#### Generate Dutch speech"
   ]
  },
  {
   "cell_type": "code",
   "execution_count": 10,
   "id": "7b1d26db",
   "metadata": {},
   "outputs": [
    {
     "name": "stdout",
     "output_type": "stream",
     "text": [
      "- generating speech, model: tts-1-hd, voice: shimmer\n",
      "CPU times: user 21.2 ms, sys: 6.03 ms, total: 27.2 ms\n",
      "Wall time: 2.03 s\n"
     ]
    },
    {
     "name": "stderr",
     "output_type": "stream",
     "text": [
      "<timed exec>:12: DeprecationWarning: Due to a bug, this method doesn't actually stream the response content, `.with_streaming_response.method()` should be used instead\n"
     ]
    }
   ],
   "source": [
    "%%time\n",
    "\n",
    "voice = 'shimmer'\n",
    "model = 'tts-1-hd'\n",
    "\n",
    "print(f\"- generating speech, model: {model}, voice: {voice}\")\n",
    "speech_file_path = output_path / f\"dutch-speech-{model}-{voice}.mp3\"\n",
    "response = client.audio.speech.create(\n",
    "  model=model,\n",
    "  voice=voice,\n",
    "  input=\"Zeker! Ik spreek ook Nederlands.\"\n",
    ")\n",
    "\n",
    "response.stream_to_file(speech_file_path)"
   ]
  }
 ],
 "metadata": {
  "kernelspec": {
   "display_name": "Python 3 (ipykernel)",
   "language": "python",
   "name": "python3"
  },
  "language_info": {
   "codemirror_mode": {
    "name": "ipython",
    "version": 3
   },
   "file_extension": ".py",
   "mimetype": "text/x-python",
   "name": "python",
   "nbconvert_exporter": "python",
   "pygments_lexer": "ipython3",
   "version": "3.9.12"
  }
 },
 "nbformat": 4,
 "nbformat_minor": 5
}
